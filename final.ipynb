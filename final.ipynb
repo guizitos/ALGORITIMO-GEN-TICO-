{
 "cells": [
  {
   "cell_type": "code",
   "execution_count": 1,
   "metadata": {},
   "outputs": [],
   "source": [
    "import random"
   ]
  },
  {
   "cell_type": "code",
   "execution_count": 2,
   "metadata": {},
   "outputs": [],
   "source": [
    "# Função para calcular a distância total de uma rota\n",
    "def calcular_distancia(rota, distancias):\n",
    "    distancia_total = 0\n",
    "    for i in range(len(rota) - 1):\n",
    "        distancia_total += distancias[rota[i]][rota[i + 1]]\n",
    "    distancia_total += distancias[rota[-1]][rota[0]]  # Retorno ao ponto inicial\n",
    "    return distancia_total"
   ]
  },
  {
   "cell_type": "code",
   "execution_count": 3,
   "metadata": {},
   "outputs": [],
   "source": [
    "# Função para criar uma rota inicial aleatória\n",
    "def criar_rota(num_pontos):\n",
    "    rota = list(range(num_pontos))\n",
    "    random.shuffle(rota)\n",
    "    return rota"
   ]
  },
  {
   "cell_type": "code",
   "execution_count": 4,
   "metadata": {},
   "outputs": [],
   "source": [
    "# Função para realizar o crossover entre duas rotas\n",
    "def crossover(pai1, pai2):\n",
    "    corte = random.randint(1, len(pai1) - 2)\n",
    "    filho = pai1[:corte] + [gene for gene in pai2 if gene not in pai1[:corte]]\n",
    "    return filho"
   ]
  },
  {
   "cell_type": "code",
   "execution_count": 5,
   "metadata": {},
   "outputs": [],
   "source": [
    "# Função para mutar uma rota\n",
    "def mutacao(rota):\n",
    "    i, j = random.sample(range(len(rota)), 2)\n",
    "    rota[i], rota[j] = rota[j], rota[i]"
   ]
  },
  {
   "cell_type": "code",
   "execution_count": 6,
   "metadata": {},
   "outputs": [],
   "source": [
    "# Função principal do algoritmo genético\n",
    "def algoritmo_genetico(distancias, tamanho_populacao=100, geracoes=500, seed=42):\n",
    "    if seed is not None:\n",
    "        random.seed(seed)\n",
    "    \n",
    "    num_pontos = len(distancias)\n",
    "    populacao = [criar_rota(num_pontos) for _ in range(tamanho_populacao)]\n",
    "    melhor_rota = min(populacao, key=lambda rota: calcular_distancia(rota, distancias))\n",
    "    \n",
    "    for _ in range(geracoes):\n",
    "        nova_populacao = []\n",
    "        for _ in range(tamanho_populacao // 2):\n",
    "            pai1, pai2 = random.sample(populacao, 2)\n",
    "            filho1 = crossover(pai1, pai2)\n",
    "            filho2 = crossover(pai2, pai1)\n",
    "            if random.random() < 0.1:  # Taxa de mutação\n",
    "                mutacao(filho1)\n",
    "            if random.random() < 0.1:\n",
    "                mutacao(filho2)\n",
    "            nova_populacao.extend([filho1, filho2])\n",
    "        \n",
    "        populacao = nova_populacao\n",
    "        melhor_rota = min(populacao, key=lambda rota: calcular_distancia(rota, distancias))\n",
    "    \n",
    "    return melhor_rota, calcular_distancia(melhor_rota, distancias)\n"
   ]
  },
  {
   "cell_type": "code",
   "execution_count": 7,
   "metadata": {},
   "outputs": [
    {
     "name": "stdout",
     "output_type": "stream",
     "text": [
      "Melhor rota: [3, 2, 1, 0]\n",
      "Distância total: 30\n"
     ]
    }
   ],
   "source": [
    "# Exemplo de uso com dados fictícios\n",
    "distancias_ficticias = [\n",
    "    [0, 5, 8, 12],\n",
    "    [5, 0, 6, 10],\n",
    "    [8, 6, 0, 7],\n",
    "    [12, 10, 7, 0]\n",
    "]\n",
    "\n",
    "melhor_rota, distancia = algoritmo_genetico(distancias_ficticias, seed=42)\n",
    "print(f\"Melhor rota: {melhor_rota}\")\n",
    "print(f\"Distância total: {distancia}\")"
   ]
  }
 ],
 "metadata": {
  "kernelspec": {
   "display_name": "Python 3",
   "language": "python",
   "name": "python3"
  },
  "language_info": {
   "codemirror_mode": {
    "name": "ipython",
    "version": 3
   },
   "file_extension": ".py",
   "mimetype": "text/x-python",
   "name": "python",
   "nbconvert_exporter": "python",
   "pygments_lexer": "ipython3",
   "version": "3.11.9"
  }
 },
 "nbformat": 4,
 "nbformat_minor": 2
}
